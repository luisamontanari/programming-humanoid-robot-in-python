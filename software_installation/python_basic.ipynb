{
 "worksheets": [
  {
   "cells": [
    {
     "cell_type": "heading",
     "metadata": {
      "slideshow": {
       "slide_type": "slide"
      }
     },
     "level": 1,
     "source": [
      "Python Baisc"
     ]
    },
    {
     "cell_type": "heading",
     "metadata": {
      "slideshow": {
       "slide_type": "slide"
      }
     },
     "level": 2,
     "source": [
      "Math"
     ]
    },
    {
     "cell_type": "code",
     "execution_count": null,
     "metadata": {
      "slideshow": {
       "slide_type": "slide"
      }
     },
     "outputs": [
      {
       "prompt_number": 1,
       "metadata": {},
       "output_type": "pyout",
       "text": [
        "4"
       ]
      }
     ],
     "input": [
      "2 + 2"
     ],
     "language": "python",
     "prompt_number": 1
    },
    {
     "cell_type": "code",
     "execution_count": null,
     "metadata": {},
     "outputs": [
      {
       "prompt_number": 2,
       "metadata": {},
       "output_type": "pyout",
       "text": [
        "-2"
       ]
      }
     ],
     "input": [
      "(1 - 2*3) / 4"
     ],
     "language": "python",
     "prompt_number": 2
    },
    {
     "cell_type": "code",
     "execution_count": null,
     "metadata": {},
     "outputs": [
      {
       "prompt_number": 3,
       "metadata": {},
       "output_type": "pyout",
       "text": [
        "2.3333333333333335"
       ]
      }
     ],
     "input": [
      "7/3."
     ],
     "language": "python",
     "prompt_number": 3
    },
    {
     "cell_type": "code",
     "execution_count": null,
     "metadata": {},
     "outputs": [
      {
       "prompt_number": 4,
       "metadata": {},
       "output_type": "pyout",
       "text": [
        "2"
       ]
      }
     ],
     "input": [
      "7/3"
     ],
     "language": "python",
     "prompt_number": 4
    },
    {
     "cell_type": "code",
     "execution_count": null,
     "metadata": {},
     "outputs": [
      {
       "prompt_number": 5,
       "metadata": {},
       "output_type": "pyout",
       "text": [
        "2.3333333333333335"
       ]
      }
     ],
     "input": [
      "from __future__ import division\n",
      "7 / 3"
     ],
     "language": "python",
     "prompt_number": 5
    },
    {
     "cell_type": "code",
     "execution_count": null,
     "metadata": {},
     "outputs": [
      {
       "prompt_number": 7,
       "metadata": {},
       "output_type": "pyout",
       "text": [
        "1024"
       ]
      }
     ],
     "input": [
      "2**10"
     ],
     "language": "python",
     "prompt_number": 7
    },
    {
     "cell_type": "code",
     "execution_count": null,
     "metadata": {},
     "outputs": [],
     "input": [
      "1024**0.5"
     ],
     "language": "python"
    },
    {
     "cell_type": "code",
     "execution_count": null,
     "metadata": {},
     "outputs": [
      {
       "prompt_number": 6,
       "metadata": {},
       "output_type": "pyout",
       "text": [
        "1.2246467991473532e-16"
       ]
      }
     ],
     "input": [
      "from math import sin, pi\n",
      "sin(pi)"
     ],
     "language": "python",
     "prompt_number": 6
    },
    {
     "cell_type": "code",
     "execution_count": null,
     "metadata": {},
     "outputs": [
      {
       "prompt_number": 8,
       "metadata": {},
       "output_type": "pyout",
       "text": [
        "12"
       ]
      }
     ],
     "input": [
      "width = 3\n",
      "length = 4\n",
      "area = width * length\n",
      "area"
     ],
     "language": "python",
     "prompt_number": 8
    },
    {
     "cell_type": "heading",
     "metadata": {},
     "level": 2,
     "source": [
      "String"
     ]
    },
    {
     "cell_type": "code",
     "execution_count": null,
     "metadata": {},
     "outputs": [
      {
       "prompt_number": 9,
       "metadata": {},
       "output_type": "pyout",
       "text": [
        "'Hello world!'"
       ]
      }
     ],
     "input": [
      "'Hello world!'"
     ],
     "language": "python",
     "prompt_number": 9
    },
    {
     "cell_type": "code",
     "execution_count": null,
     "metadata": {},
     "outputs": [
      {
       "stream": "stdout",
       "output_type": "stream",
       "text": [
        "Hello 'again'\n"
       ]
      }
     ],
     "input": [
      "print \"Hello 'again'\""
     ],
     "language": "python",
     "prompt_number": 10
    },
    {
     "cell_type": "code",
     "execution_count": null,
     "metadata": {},
     "outputs": [
      {
       "prompt_number": 12,
       "metadata": {},
       "output_type": "pyout",
       "text": [
        "'HelloWorld'"
       ]
      }
     ],
     "input": [
      "hello = 'Hello'\n",
      "world = 'World'\n",
      "hello + world"
     ],
     "language": "python",
     "prompt_number": 12
    },
    {
     "cell_type": "code",
     "execution_count": null,
     "metadata": {},
     "outputs": [
      {
       "prompt_number": 13,
       "metadata": {},
       "output_type": "pyout",
       "text": [
        "'HELLO'"
       ]
      }
     ],
     "input": [
      "hello.upper()"
     ],
     "language": "python",
     "prompt_number": 13
    },
    {
     "cell_type": "heading",
     "metadata": {},
     "level": 2,
     "source": [
      "List"
     ]
    },
    {
     "cell_type": "code",
     "execution_count": null,
     "metadata": {},
     "outputs": [],
     "input": [
      "days_of_the_week = [\"Sunday\",\"Monday\",\"Tuesday\",\"Wednesday\",\"Thursday\",\"Friday\",\"Saturday\"]"
     ],
     "language": "python",
     "prompt_number": 14
    },
    {
     "cell_type": "code",
     "execution_count": null,
     "metadata": {},
     "outputs": [
      {
       "prompt_number": 15,
       "metadata": {},
       "output_type": "pyout",
       "text": [
        "'Friday'"
       ]
      }
     ],
     "input": [
      "days_of_the_week[5]"
     ],
     "language": "python",
     "prompt_number": 15
    },
    {
     "cell_type": "code",
     "execution_count": null,
     "metadata": {},
     "outputs": [
      {
       "prompt_number": 16,
       "metadata": {},
       "output_type": "pyout",
       "text": [
        "'Friday'"
       ]
      }
     ],
     "input": [
      "days_of_the_week[-2]"
     ],
     "language": "python",
     "prompt_number": 16
    },
    {
     "cell_type": "code",
     "execution_count": null,
     "metadata": {},
     "outputs": [],
     "input": [
      "[\"Friday\", 2014]"
     ],
     "language": "python"
    },
    {
     "cell_type": "code",
     "execution_count": null,
     "metadata": {},
     "outputs": [
      {
       "prompt_number": 26,
       "metadata": {},
       "output_type": "pyout",
       "text": [
        "[0, 1, 2, [1, 3, 5, [2, 2, 2]]]"
       ]
      }
     ],
     "input": [
      "nested_list = [0, 1, 2, [1, 3, 5, [2, 2, 2]]]\n",
      "nested_list"
     ],
     "language": "python",
     "prompt_number": 26
    },
    {
     "cell_type": "heading",
     "metadata": {},
     "level": 3,
     "source": [
      "Slicing"
     ]
    },
    {
     "cell_type": "code",
     "execution_count": null,
     "metadata": {},
     "outputs": [
      {
       "prompt_number": 17,
       "metadata": {},
       "output_type": "pyout",
       "text": [
        "['Monday', 'Tuesday']"
       ]
      }
     ],
     "input": [
      "days_of_the_week[1:3]"
     ],
     "language": "python",
     "prompt_number": 17
    },
    {
     "cell_type": "code",
     "execution_count": null,
     "metadata": {},
     "outputs": [],
     "input": [
      "days_of_the_week[4:]"
     ],
     "language": "python"
    },
    {
     "cell_type": "code",
     "execution_count": null,
     "metadata": {},
     "outputs": [
      {
       "prompt_number": 18,
       "metadata": {},
       "output_type": "pyout",
       "text": [
        "['Sunday', 'Monday', 'Tuesday']"
       ]
      }
     ],
     "input": [
      "days_of_the_week[:3]"
     ],
     "language": "python",
     "prompt_number": 18
    },
    {
     "cell_type": "code",
     "execution_count": null,
     "metadata": {},
     "outputs": [
      {
       "prompt_number": 19,
       "metadata": {},
       "output_type": "pyout",
       "text": [
        "'Hel'"
       ]
      }
     ],
     "input": [
      "hello[:-2]"
     ],
     "language": "python",
     "prompt_number": 19
    },
    {
     "cell_type": "heading",
     "metadata": {},
     "level": 3,
     "source": [
      "range"
     ]
    },
    {
     "cell_type": "code",
     "execution_count": null,
     "metadata": {},
     "outputs": [
      {
       "prompt_number": 20,
       "metadata": {},
       "output_type": "pyout",
       "text": [
        "[0, 1, 2, 3, 4, 5, 6, 7, 8, 9]"
       ]
      }
     ],
     "input": [
      "range(10)"
     ],
     "language": "python",
     "prompt_number": 20
    },
    {
     "cell_type": "code",
     "execution_count": null,
     "metadata": {},
     "outputs": [
      {
       "prompt_number": 21,
       "metadata": {},
       "output_type": "pyout",
       "text": [
        "[2, 3, 4, 5, 6, 7, 8, 9]"
       ]
      }
     ],
     "input": [
      "range(2,10)"
     ],
     "language": "python",
     "prompt_number": 21
    },
    {
     "cell_type": "code",
     "execution_count": null,
     "metadata": {},
     "outputs": [
      {
       "prompt_number": 22,
       "metadata": {},
       "output_type": "pyout",
       "text": [
        "[2, 5, 8]"
       ]
      }
     ],
     "input": [
      "range(2,10,3)"
     ],
     "language": "python",
     "prompt_number": 22
    },
    {
     "cell_type": "code",
     "execution_count": null,
     "metadata": {},
     "outputs": [
      {
       "stream": "stdout",
       "output_type": "stream",
       "text": [
        "Help on built-in function len in module __builtin__:\n",
        "\n",
        "len(...)\n",
        "    len(object) -> integer\n",
        "    \n",
        "    Return the number of items of a sequence or mapping.\n",
        "\n"
       ]
      }
     ],
     "input": [
      "help(len)"
     ],
     "language": "python",
     "prompt_number": 23
    },
    {
     "cell_type": "code",
     "execution_count": null,
     "metadata": {},
     "outputs": [],
     "input": [
      "len?"
     ],
     "language": "python",
     "prompt_number": 24
    },
    {
     "cell_type": "code",
     "execution_count": null,
     "metadata": {},
     "outputs": [
      {
       "prompt_number": 27,
       "metadata": {},
       "output_type": "pyout",
       "text": [
        "4"
       ]
      }
     ],
     "input": [
      "len(nested_list)"
     ],
     "language": "python",
     "prompt_number": 27
    },
    {
     "cell_type": "heading",
     "metadata": {},
     "level": 2,
     "source": [
      "Iteration, Indentation, and Blocks"
     ]
    },
    {
     "cell_type": "code",
     "execution_count": null,
     "metadata": {},
     "outputs": [
      {
       "stream": "stdout",
       "output_type": "stream",
       "text": [
        "Sunday\n",
        "Monday\n",
        "work\n",
        "Tuesday\n",
        "Wednesday\n",
        "Thursday\n",
        "Friday\n",
        "Saturday\n"
       ]
      }
     ],
     "input": [
      "for day in days_of_the_week:\n",
      "    print day\n",
      "    if day == 'Monday':\n",
      "        print 'work'"
     ],
     "language": "python",
     "prompt_number": 30
    },
    {
     "cell_type": "heading",
     "metadata": {},
     "level": 2,
     "source": [
      "Function"
     ]
    },
    {
     "cell_type": "code",
     "execution_count": null,
     "metadata": {},
     "outputs": [],
     "input": [
      "def fact(n):\n",
      "    '''this is doc string of fact'''\n",
      "    if n <= 0:\n",
      "        return 1\n",
      "    return n*fact(n-1)"
     ],
     "language": "python",
     "prompt_number": 32
    },
    {
     "cell_type": "code",
     "execution_count": null,
     "metadata": {},
     "outputs": [
      {
       "stream": "stdout",
       "output_type": "stream",
       "text": [
        "Help on function fact in module __main__:\n",
        "\n",
        "fact(n)\n",
        "    this is doc string of fact\n",
        "\n"
       ]
      }
     ],
     "input": [
      "help(fact)"
     ],
     "language": "python",
     "prompt_number": 33
    },
    {
     "cell_type": "code",
     "execution_count": null,
     "metadata": {},
     "outputs": [
      {
       "prompt_number": 34,
       "metadata": {},
       "output_type": "pyout",
       "text": [
        "3628800"
       ]
      }
     ],
     "input": [
      "fact(10)"
     ],
     "language": "python",
     "prompt_number": 34
    },
    {
     "cell_type": "markdown",
     "metadata": {},
     "source": [
      "## Reference\n",
      "* [Introduction to Programming (using Python)](http://nbviewer.ipython.org/github/ehmatthes/intro_programming/blob/master/notebooks/index.ipynb)\n",
      "* [A gallery of interesting IPython Notebooks](https://github.com/ipython/ipython/wiki/A-gallery-of-interesting-IPython-Notebooks#scientific-computing-and-data-analysis-with-the-scipy-stack)\n",
      "* [Lecture 1 in scientific python lectures](http://nbviewer.ipython.org/github/jrjohansson/scientific-python-lectures/blob/master/Lecture-1-Introduction-to-Python-Programming.ipynb)"
     ]
    }
   ]
  }
 ],
 "cells": [],
 "metadata": {
  "name": ""
 },
 "nbformat": 4,
 "nbformat_minor": 0
}
